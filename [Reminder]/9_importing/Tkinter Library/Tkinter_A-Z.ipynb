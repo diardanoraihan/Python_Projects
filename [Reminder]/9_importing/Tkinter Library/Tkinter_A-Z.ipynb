{
 "cells": [
  {
   "cell_type": "markdown",
   "metadata": {},
   "source": [
    "# Tkinter - From Zero to Hero\n",
    "<hr>\n",
    "\n",
    "# Beginner Level\n",
    "\n",
    "## Introduction: Hello World\n",
    "\n",
    "Tkinter is a Python binding to the Tk GUI toolkit. It is the standard Python interface to the Tk GUI toolkit, and is Python's de facto standard GUI. \n",
    "\n",
    "__<u>Root Widget</u>__\n",
    "\n",
    "In tkinter, everything is a widget, and the first thing you need to create is the __root__ widget.\n",
    "\n",
    "Root widget is like the windows of your GUI.\n",
    "\n",
    "__<u>Standard Steps in Tkinter</u>__\n",
    "\n",
    "There are 2 steps in tkinter:\n",
    "1. Define / create a thing\n",
    "2. Put the thing up on the screen\n",
    "\n",
    "Finally, you need to create an infinite loop to keep your program running"
   ]
  },
  {
   "cell_type": "code",
   "execution_count": 6,
   "metadata": {},
   "outputs": [],
   "source": [
    "from tkinter import *\n",
    "%config IPCompleter.greedy=True\n",
    "%config IPCompleter.use_jedi=False\n",
    "\n",
    "# Define the Root widget\n",
    "root = Tk()\n",
    "\n",
    "# Create a label widget\n",
    "myLabel = Label(root, text='Hello World')\n",
    "# Showing it onto the screen\n",
    "myLabel.pack()\n",
    "# Execute the GUI\n",
    "root.mainloop()"
   ]
  },
  {
   "cell_type": "markdown",
   "metadata": {},
   "source": [
    "## Grid's System\n",
    "\n",
    "We can position the widget using Tkinter grid system. Think of it as rows and columns of the windows.\n",
    "- row number = 0 ... N\n",
    "- col number = 0 ... N"
   ]
  },
  {
   "cell_type": "code",
   "execution_count": 38,
   "metadata": {},
   "outputs": [],
   "source": [
    "root = Tk()\n",
    "# Create the label widgets\n",
    "myLabel1 = Label(root, text='Hello World')\n",
    "myLabel2 = Label(root, text='My name is Diardano Raihan')\n",
    "\n",
    "# Showing it onto the screen with grid system\n",
    "myLabel1.grid(row=0, column = 0)\n",
    "myLabel2.grid(row=1, column = 1)\n",
    "\n",
    "# Execute the GUI\n",
    "root.mainloop()"
   ]
  },
  {
   "cell_type": "markdown",
   "metadata": {},
   "source": [
    "## Buttons"
   ]
  },
  {
   "cell_type": "code",
   "execution_count": 8,
   "metadata": {},
   "outputs": [],
   "source": [
    "# myButton = Button(root, text=\"Click Me!\", state=DISABLED)\n",
    "\n",
    "root = Tk()\n",
    "# Create an actionable function after clicking the button\n",
    "def myClick():\n",
    "    myButton = Button(root, text='You just clicked a button!!')\n",
    "    myButton.pack()\n",
    "\n",
    "# make the button size wider in x and y axis by padding it and put color on it\n",
    "myButton = Button(root, text='Click Me', padx = 50, pady = 50,\n",
    "                  command=myClick, fg='white', bg='blue')\n",
    "myButton.pack()\n",
    "root.mainloop()"
   ]
  },
  {
   "cell_type": "markdown",
   "metadata": {},
   "source": [
    "## Input Fields"
   ]
  },
  {
   "cell_type": "markdown",
   "metadata": {},
   "source": [
    "Several class needs to be included:\n",
    "- `Entry()`\n",
    "    - `.get()`\n",
    "    - `.pack()`\n",
    "    - `.insert()`\n",
    "- `Button()`"
   ]
  },
  {
   "cell_type": "markdown",
   "metadata": {},
   "source": [
    "__Version 1__"
   ]
  },
  {
   "cell_type": "code",
   "execution_count": 13,
   "metadata": {},
   "outputs": [],
   "source": [
    "root = Tk()\n",
    "# Create a widget of input box\n",
    "entry = Entry(root, width = 50, bg='red', fg='white', borderwidth = 5)\n",
    "entry.pack()\n",
    "\n",
    "# Create an actionable function after clicking the button\n",
    "def myClick():\n",
    "    myButton = Button(root, text='You just clicked a button!!')\n",
    "    myButton.pack()\n",
    "\n",
    "# make the button size wider in x and y axis by padding it and put color on it\n",
    "myButton = Button(root, text='Click Me', padx = 50, pady = 50,\n",
    "                  command=myClick, fg='white', bg='blue')\n",
    "myButton.pack()\n",
    "root.mainloop()"
   ]
  },
  {
   "cell_type": "markdown",
   "metadata": {},
   "source": [
    "__Version 2__"
   ]
  },
  {
   "cell_type": "code",
   "execution_count": 247,
   "metadata": {},
   "outputs": [],
   "source": [
    "root = Tk()\n",
    "# Create a widget of input box\n",
    "entry = Entry(root, width = 50, bg='red', fg='white', borderwidth = 5)\n",
    "entry.pack()\n",
    "entry.insert(0, \"Enter your name:\")\n",
    "\n",
    "# Create an actionable function after clicking the button\n",
    "def myClick():\n",
    "    hello = \"Hello \" + entry.get() + \"!\"\n",
    "    myButton = Button(root, text=hello)\n",
    "    myButton.pack()\n",
    "\n",
    "# make the button size wider in x and y axis by padding it and put color on it\n",
    "myButton = Button(root, text='Enter your name', padx = 50, pady = 50,\n",
    "                  command=myClick, fg='white', bg='blue')\n",
    "myButton.pack()\n",
    "root.mainloop()"
   ]
  },
  {
   "cell_type": "markdown",
   "metadata": {},
   "source": [
    "## Project: Simple Calculator App"
   ]
  },
  {
   "cell_type": "code",
   "execution_count": 246,
   "metadata": {},
   "outputs": [],
   "source": [
    "root = Tk()\n",
    "root.title(\"Simple Calculator\")\n",
    "\n",
    "# Build an entry for the user input\n",
    "entry = Entry(root, width = 40, borderwidth = 5)\n",
    "entry.grid(row = 0, column = 0, columnspan = 5, padx = 10, pady=10)\n",
    "\n",
    "\n",
    "# Define the command functions for each button\n",
    "\n",
    "def button_click(number):\n",
    "    # entry.delete(0, END)\n",
    "    current = entry.get() # get the current value in the field\n",
    "    entry.delete(0, END)  # Delete text from FIRST to LAST (0 here means from first)\n",
    "                          # (END here is a literal constant for 'end' LAST)\n",
    "    entry.insert(0, str(current)+ str(number)) # update the field\n",
    "\n",
    "def button_DOT(str):\n",
    "    current = entry.get()\n",
    "    if len(current)==0:\n",
    "        entry.insert(0, '.')\n",
    "    else:\n",
    "        entry.delete(0, END)\n",
    "        current = current+'.'\n",
    "        entry.insert(0, current)\n",
    "    \n",
    "def button_ZEROS():\n",
    "    current = entry.get()\n",
    "    if len(current)==0:\n",
    "        entry.insert(0, str(1000))\n",
    "    else:\n",
    "        entry.delete(0, END)\n",
    "        current = float(current)\n",
    "        current = current*1000\n",
    "        entry.insert(0, str(current))\n",
    "        \n",
    "def button_AC():\n",
    "    entry.delete(0, END)\n",
    "        \n",
    "def button_ADD():\n",
    "    first_number = entry.get()\n",
    "    global f_num\n",
    "    global math\n",
    "    math = '+'\n",
    "    f_num = float(first_number)\n",
    "    entry.delete(0, END)\n",
    "    \n",
    "def button_SUBSTRACT():\n",
    "    first_number = entry.get()\n",
    "    global f_num\n",
    "    global math\n",
    "    math = '-'\n",
    "    f_num = float(first_number)\n",
    "    entry.delete(0, END)\n",
    "\n",
    "def button_MULTIPLY():\n",
    "    first_number = entry.get()\n",
    "    global f_num\n",
    "    global math\n",
    "    math = '*'\n",
    "    f_num = float(first_number)\n",
    "    entry.delete(0, END)\n",
    "\n",
    "def button_DIVIDE():\n",
    "    first_number = entry.get()\n",
    "    global f_num\n",
    "    global math\n",
    "    math = '/'\n",
    "    f_num = float(first_number)\n",
    "    entry.delete(0, END)\n",
    "\n",
    "def button_EQUAL():\n",
    "    second_number = entry.get()\n",
    "    entry.delete(0, END)\n",
    "    s_num = float(second_number)\n",
    "    if math=='+':\n",
    "        answer = f_num + s_num\n",
    "    elif math=='-':\n",
    "        answer = f_num - s_num\n",
    "    elif math=='*':\n",
    "        answer = f_num * s_num\n",
    "    elif math=='/':\n",
    "        answer = f_num / s_num\n",
    "       \n",
    "    entry.insert(0, str(answer))\n",
    "    \n",
    "\n",
    "# Define the button\n",
    "button_1 = Button(root, text=\"1\",  padx=20, pady=10, command=lambda: button_click(1))\n",
    "button_2 = Button(root, text=\"2\",  padx=20, pady=10, command=lambda: button_click(2))\n",
    "button_3 = Button(root, text=\"3\",  padx=20, pady=10, command=lambda: button_click(3))\n",
    "button_4 = Button(root, text=\"4\",  padx=20, pady=10, command=lambda: button_click(4))\n",
    "button_5 = Button(root, text=\"5\",  padx=20, pady=10, command=lambda: button_click(5))\n",
    "button_6 = Button(root, text=\"6\",  padx=20, pady=10, command=lambda: button_click(6))\n",
    "button_7 = Button(root, text=\"7\",  padx=20, pady=10, command=lambda: button_click(7))\n",
    "button_8 = Button(root, text=\"8\",  padx=20, pady=10, command=lambda: button_click(8))\n",
    "button_9 = Button(root, text=\"9\",  padx=20, pady=10, command=lambda: button_click(9))\n",
    "button_0 = Button(root, text=\"0\",  padx=20, pady=10, command=lambda: button_click(0))\n",
    "\n",
    "button_ac = Button(root, text=\"CLEAR\",  padx=33, pady=10, command=button_AC)\n",
    "button_equal = Button(root, text='=', padx=47, pady=10, command=button_EQUAL)\n",
    "button_add = Button(root, text='+', padx=18, pady=10, command=button_ADD)\n",
    "button_substract = Button(root, text='-', padx=20, pady=10, command=button_SUBSTRACT)\n",
    "button_multiply = Button(root, text='*', padx=20, pady=10, command=button_MULTIPLY)\n",
    "button_divide = Button(root, text='/', padx=20, pady=10, command=button_DIVIDE)\n",
    "button_dot = Button(root, text='.', padx=21, pady=10, command=lambda: button_DOT('.'))\n",
    "button_zeros = Button(root, text='x1000', padx=8, pady=10, command=button_ZEROS)\n",
    "\n",
    "# Put the buttons on the screen\n",
    "\n",
    "button_0.grid(row=4, column=0)\n",
    "button_dot.grid(row=4, column=1)\n",
    "button_zeros.grid(row=4, column=2)\n",
    "button_equal.grid(row=4, column=3, columnspan=2)\n",
    "\n",
    "button_1.grid(row=3, column=0)\n",
    "button_2.grid(row=3, column=1)\n",
    "button_3.grid(row=3, column=2)\n",
    "button_add.grid(row=2, column=3)\n",
    "button_substract.grid(row=2, column=4)\n",
    "\n",
    "button_4.grid(row=2, column=0)\n",
    "button_5.grid(row=2, column=1)\n",
    "button_6.grid(row=2, column=2)\n",
    "button_divide.grid(row=1, column=4)\n",
    "button_multiply.grid(row=1, column=3)\n",
    "\n",
    "button_7.grid(row=1, column=0)\n",
    "button_8.grid(row=1, column=1)\n",
    "button_9.grid(row=1, column=2)\n",
    "button_ac.grid(row=3, column=3, columnspan=2)\n",
    "\n",
    "root.mainloop()"
   ]
  },
  {
   "cell_type": "markdown",
   "metadata": {},
   "source": [
    "# Intermediate Level\n",
    "\n",
    "## Icons, Images, Exit Buttons"
   ]
  },
  {
   "cell_type": "code",
   "execution_count": 161,
   "metadata": {},
   "outputs": [
    {
     "data": {
      "text/plain": [
       "[1, 2, 3]"
      ]
     },
     "execution_count": 161,
     "metadata": {},
     "output_type": "execute_result"
    }
   ],
   "source": [
    "list(map(lambda x: x, [1,2,3]))"
   ]
  },
  {
   "cell_type": "code",
   "execution_count": 209,
   "metadata": {},
   "outputs": [
    {
     "data": {
      "text/plain": [
       "2.0"
      ]
     },
     "execution_count": 209,
     "metadata": {},
     "output_type": "execute_result"
    }
   ],
   "source": [
    "float(2)"
   ]
  },
  {
   "cell_type": "code",
   "execution_count": 217,
   "metadata": {},
   "outputs": [
    {
     "data": {
      "text/plain": [
       "'0.9'"
      ]
     },
     "execution_count": 217,
     "metadata": {},
     "output_type": "execute_result"
    }
   ],
   "source": [
    "str(.9)"
   ]
  },
  {
   "cell_type": "code",
   "execution_count": 218,
   "metadata": {},
   "outputs": [
    {
     "data": {
      "text/plain": [
       "2.0"
      ]
     },
     "execution_count": 218,
     "metadata": {},
     "output_type": "execute_result"
    }
   ],
   "source": [
    "2."
   ]
  }
 ],
 "metadata": {
  "kernelspec": {
   "display_name": "Python 3",
   "language": "python",
   "name": "python3"
  },
  "language_info": {
   "codemirror_mode": {
    "name": "ipython",
    "version": 3
   },
   "file_extension": ".py",
   "mimetype": "text/x-python",
   "name": "python",
   "nbconvert_exporter": "python",
   "pygments_lexer": "ipython3",
   "version": "3.7.9"
  }
 },
 "nbformat": 4,
 "nbformat_minor": 4
}
