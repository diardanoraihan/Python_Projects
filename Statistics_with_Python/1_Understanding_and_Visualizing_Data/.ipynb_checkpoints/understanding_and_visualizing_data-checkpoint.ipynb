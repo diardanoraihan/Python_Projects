{
 "cells": [
  {
   "cell_type": "markdown",
   "metadata": {},
   "source": [
    "<h1 align = center>PART 1: UNDERSTANDING AND VISUALIZING DATA</h1>"
   ]
  },
  {
   "cell_type": "markdown",
   "metadata": {},
   "source": [
    "# 1. Understanding Data"
   ]
  },
  {
   "cell_type": "markdown",
   "metadata": {},
   "source": [
    "## 1.1 Statistics: Definition\n",
    "- Methodological: tools and methods for working with and understanding data.\n",
    "- Statisticians: apply and develop data analysis methods, seek to understand their properties.\n",
    "- Researchers and workers: apply and extend statistical methodology, and contribute new ideas and methods for conducting data analysis.\n",
    "\n",
    "__A Statistic and the field of Statistics__:\n",
    "- A statistic: numerical or graphical summary of a collection of data. \n",
    "    - Average score on final exam\n",
    "    - Minimum temperature at a location over year\n",
    "    - Proportion of people who are retired\n",
    "- Statistics: academic discipline focusing on research methodology. Statisticians develp new statistical tools, calculate statistics from data, and collaborate with subject-mater experts to interpret them. \n",
    "\n",
    "__The Landscape of Statistics__:\n",
    "Evolving and dynamic field ~ Emerging challanges and opportunities: \n",
    "- Properties of statistical methods are under continuing study. \n",
    "- New application areas -> development of new analytic methods. \n",
    "- New types of sensors -> new types of data\n",
    "- Advances in computing -> sophisticated analyses on Big Data\n",
    "\n",
    "__Statistics and its Allied Fields__: \n",
    "- __Computer Science__\n",
    "    - algorithms, data structures for working with data, programming languages for manipulating data\n",
    "- __Mathematics__\n",
    "    - language and notation for expressing statistical concepts concisely, tools for understanding properties of statistical methods\n",
    "- __Probability Theory__\n",
    "    - branch of mathematics ~ crucial part of foundations of statistics - to express ideas about randomness and uncertainty\n",
    "- __Data Science__\n",
    "    - database management, machine learning, computational infrastructure to carry out data analysis.\n",
    "- __Artificial Intelligence__\n",
    "    - Statistics now is a major linchpin in research and industry. A number of different emerging applications include:\n",
    "        - Computer Vision\n",
    "        - Automated Driving\n",
    "        - Recommender system\n",
    "        - Precision medicine\n",
    "        - Fraud Detection\n",
    "        - Job training and behavioral therapy\n",
    "        - etc.\n",
    "\n",
    "## 1.2 Statistics: Perspectives\n",
    "\n",
    "__The Art of Summarizing__\n",
    "\n",
    "- Data can be overwhelming\n",
    "- Making sense of data usually involves reduction and summarization\n",
    "    - reduction: make a dataset comprehensible to human observer\n",
    "    - summarization: always depends primarily on goals of __data consumer__ to be meaningful -- many approaches\n",
    "    \n",
    "__Science of Uncertainty__\n",
    "- Data can be misleading.\n",
    "- Statistics provides framework for assessing whether claims based on data are meaningful. \n",
    "- Uncertainty is inevitable, but it is highly desirable to quantify how far our reported findings may fall from __the truth__. \n",
    "- I.e. many public opinion polls report results along with a margin of error to provide an idea of what that potential discrepancy wll be between the reported and the actual states of public opinion.\n",
    "\n",
    "__Science of Decisions__\n",
    "- Understanding data is important -> only consequential if we act on what we have learned.\n",
    "- __Desicion-making__ = ultimate goal of any statistical analysis.\n",
    "- We make decisions in face of __uncertainty!__\n",
    "    - What are costs and benefits of different approaches? \n",
    "    \n",
    "__Science of Variation__\n",
    "- Often focus on most typical or __central__ value.\n",
    "    - i.e. Average American has around \\$6000 of credit card debt (central value of credit card debt in US population)\n",
    "- Great emphasis on understanding __variation__ in data!\n",
    "    - i.e. 10% of Americans have more than $30,000 in credit card debt (variation of credit card in US population)\n",
    "\n",
    "__Art of Forecasting__\n",
    "- Forecasting or prediction = central tasks in statistics\n",
    "- Cannot know future with absolute certainty, but efficient use of available data\n",
    "    - it can sometimes make accurate predictions about future!\n",
    "    \n",
    "__Science of Measurement__\n",
    "- __High accuracy__: person's age or height\n",
    "- __More difficult__: blodd pressure (varies in minute to minute)\n",
    "- __Harder__: \"mood\", \"political ideology\", \"personality\"\n",
    "\n",
    "__Basis for Principled Data Collection__\n",
    "- Data often expensive and difficult to collect\n",
    "- Resource limitations -> collect least data possible\n",
    "- __Statistics__: provides a rational way to manage this tread-off"
   ]
  },
  {
   "cell_type": "markdown",
   "metadata": {},
   "source": [
    "## 1.3 Where Do Data Come from?\n",
    "\n",
    "__Data can be:__ \n",
    "- numbers\n",
    "- images\n",
    "- words\n",
    "- audio\n",
    "\n",
    "__Two key types of Data:__\n",
    "- __Organic / Process Data__\n",
    "    - Generated by a computerized information system (from image/audio recordings), ie:\n",
    "        - Financial or Point-of-sale transactions/Stock market exchanges, \n",
    "        - Netflix viewing history, \n",
    "        - Web browser activity, \n",
    "        - Sporting event\n",
    "        - Temperature/pollution sensors\n",
    "    - These processes generate massive quantities of data -> __Big Data__\n",
    "    - Processing requires significant computational resources; data scientist \"mine\" these data to study trends and uncover interesting relationship.\n",
    "    \n",
    "    \n",
    "- __\"Designed\" Data Collection__\n",
    "    - Designed to specifically address astated research objective\n",
    "        - Individuals sampled from a population, interviewed about opinions on a particular topic.\n",
    "    - Common features of \"designed\" data: \n",
    "        - __Sampling from populations__ - administration of carefully designed questions.\n",
    "        - Typically __data sets much smaller__ compared to organic/process data sets.\n",
    "        - __Data collected for very specific reasons__, rather than simple reflections of ongoing natural process.\n",
    "\n",
    "__Are the Data i.i.d?__\n",
    "- For analyzing data, regardless of source, an important questions: \n",
    "    - __Can the data be considered i.i.d?__\n",
    "        - i: __independent__ -> all observations are independent of all the other observations (there are no correlations)\n",
    "        - id: __identically distributed__ -> the values that we're looking at are all arising from some common statistical distribution\n",
    "    - i.e.: __Final exam scores__ from a large class at a university are __independent observations__ from a __common normal distribution__.\n",
    "        - Each student is treated independently that are coming from a common normal distribution, we look at the entire distribution of exam scores it might look like this kind of bell-shaped curve.\n",
    "\n",
    "\n",
    "- __If yes__, we can inspect the features of that distribution and make inference about those features:\n",
    "    - mean, variance, extreme percentile. \n",
    "    - the overall mean in a population, the overall extreme percentile of a population.\n",
    "    \n",
    "\n",
    "- __If not__? These are the example scenarios: \n",
    "    - Students sitting next to each other tend to have similar scores\n",
    "    - Males and females might have different means\n",
    "    - Students form same discussion sections may have similar scores\n",
    "\n",
    "> Conclusion: __Dependencies and differences need to be accounted for in analysis!__ -> Need different analytic procedures"
   ]
  },
  {
   "cell_type": "markdown",
   "metadata": {},
   "source": [
    "## 1.4 Variable Types\n",
    "\n",
    "For this material, we will look at the __NHANES__ Data (National Health and Nutrition Examination Survey) to assess the health and nutrition of children and adults in the US. \n",
    "\n",
    "__Quantitative Variables__\n",
    "- Numerical, measurable quantities in which arithmetic operations often make sense.\n",
    "    - __Continuous__ - could take on any value within an interval, many possible values\n",
    "    - __Discrete__ - countable value, finite number of values\n",
    "\n",
    "\n",
    "__Qualitative (Catagorical) Variables__\n",
    "- Classifies individuals or items into different groups.\n",
    "    - __Ordinal__ - groups have an order or ranking (Senior/junior, January/February/. . ., etc)\n",
    "    - __Nominal__ - groups are merely names, no ranking (race, etc)"
   ]
  },
  {
   "cell_type": "code",
   "execution_count": 29,
   "metadata": {},
   "outputs": [
    {
     "data": {
      "text/html": [
       "<div>\n",
       "<style scoped>\n",
       "    .dataframe tbody tr th:only-of-type {\n",
       "        vertical-align: middle;\n",
       "    }\n",
       "\n",
       "    .dataframe tbody tr th {\n",
       "        vertical-align: top;\n",
       "    }\n",
       "\n",
       "    .dataframe thead th {\n",
       "        text-align: right;\n",
       "    }\n",
       "</style>\n",
       "<table border=\"1\" class=\"dataframe\">\n",
       "  <thead>\n",
       "    <tr style=\"text-align: right;\">\n",
       "      <th></th>\n",
       "      <th>age</th>\n",
       "      <th>adult</th>\n",
       "    </tr>\n",
       "  </thead>\n",
       "  <tbody>\n",
       "    <tr>\n",
       "      <th>0</th>\n",
       "      <td>22</td>\n",
       "      <td>yes</td>\n",
       "    </tr>\n",
       "    <tr>\n",
       "      <th>1</th>\n",
       "      <td>14</td>\n",
       "      <td>no</td>\n",
       "    </tr>\n",
       "    <tr>\n",
       "      <th>2</th>\n",
       "      <td>44</td>\n",
       "      <td>yes</td>\n",
       "    </tr>\n",
       "    <tr>\n",
       "      <th>3</th>\n",
       "      <td>14</td>\n",
       "      <td>no</td>\n",
       "    </tr>\n",
       "    <tr>\n",
       "      <th>4</th>\n",
       "      <td>30</td>\n",
       "      <td>yes</td>\n",
       "    </tr>\n",
       "  </tbody>\n",
       "</table>\n",
       "</div>"
      ],
      "text/plain": [
       "   age adult\n",
       "0   22   yes\n",
       "1   14    no\n",
       "2   44   yes\n",
       "3   14    no\n",
       "4   30   yes"
      ]
     },
     "execution_count": 29,
     "metadata": {},
     "output_type": "execute_result"
    }
   ],
   "source": [
    "import pandas as pd\n",
    "data = [[22, 'yes'], [14, 'no'], [44, 'yes'], [14, 'no'], [30, 'yes']]\n",
    "df_ex = pd.DataFrame(data, columns = ['age', 'adult'])\n",
    "df_ex"
   ]
  },
  {
   "cell_type": "code",
   "execution_count": 30,
   "metadata": {
    "scrolled": true
   },
   "outputs": [
    {
     "data": {
      "text/html": [
       "<div>\n",
       "<style scoped>\n",
       "    .dataframe tbody tr th:only-of-type {\n",
       "        vertical-align: middle;\n",
       "    }\n",
       "\n",
       "    .dataframe tbody tr th {\n",
       "        vertical-align: top;\n",
       "    }\n",
       "\n",
       "    .dataframe thead th {\n",
       "        text-align: right;\n",
       "    }\n",
       "</style>\n",
       "<table border=\"1\" class=\"dataframe\">\n",
       "  <thead>\n",
       "    <tr style=\"text-align: right;\">\n",
       "      <th></th>\n",
       "      <th>age</th>\n",
       "      <th>adult</th>\n",
       "      <th>adult_num</th>\n",
       "    </tr>\n",
       "  </thead>\n",
       "  <tbody>\n",
       "    <tr>\n",
       "      <th>0</th>\n",
       "      <td>22</td>\n",
       "      <td>yes</td>\n",
       "      <td>1</td>\n",
       "    </tr>\n",
       "    <tr>\n",
       "      <th>1</th>\n",
       "      <td>14</td>\n",
       "      <td>no</td>\n",
       "      <td>0</td>\n",
       "    </tr>\n",
       "    <tr>\n",
       "      <th>2</th>\n",
       "      <td>44</td>\n",
       "      <td>yes</td>\n",
       "      <td>1</td>\n",
       "    </tr>\n",
       "    <tr>\n",
       "      <th>3</th>\n",
       "      <td>14</td>\n",
       "      <td>no</td>\n",
       "      <td>0</td>\n",
       "    </tr>\n",
       "    <tr>\n",
       "      <th>4</th>\n",
       "      <td>30</td>\n",
       "      <td>yes</td>\n",
       "      <td>1</td>\n",
       "    </tr>\n",
       "  </tbody>\n",
       "</table>\n",
       "</div>"
      ],
      "text/plain": [
       "   age adult  adult_num\n",
       "0   22   yes          1\n",
       "1   14    no          0\n",
       "2   44   yes          1\n",
       "3   14    no          0\n",
       "4   30   yes          1"
      ]
     },
     "execution_count": 30,
     "metadata": {},
     "output_type": "execute_result"
    }
   ],
   "source": [
    "df_ex['adult_num'] = df_ex['adult'].apply(lambda x: 1 if x == 'yes' else 0)\n",
    "df_ex"
   ]
  },
  {
   "cell_type": "markdown",
   "metadata": {},
   "source": [
    "- Notice that we can take an average of the `age` in our sample, but we cannot take an average of `adult_num` because it does not make sense to have continuous number in adult_num variable because simply the adult is categorical variable.\n",
    "\n",
    "\n",
    "- Now, let's connect these variable types to the __data types in python__"
   ]
  },
  {
   "cell_type": "markdown",
   "metadata": {},
   "source": [
    "### 1.4.1 Data Types in Python"
   ]
  },
  {
   "cell_type": "markdown",
   "metadata": {},
   "source": [
    "#### Numerical or Quantitative\n",
    ">  _Taking the mean make sense!_\n",
    "- Discrete\n",
    "    - Integer (int) # Stored exactly\n",
    "- Continuous\n",
    "    - Float (float) # Stored simirarly to scientific notation representation. Allos for decimal places, but loses precision."
   ]
  },
  {
   "cell_type": "markdown",
   "metadata": {},
   "source": [
    "__Integer__"
   ]
  },
  {
   "cell_type": "code",
   "execution_count": 37,
   "metadata": {},
   "outputs": [
    {
     "data": {
      "text/plain": [
       "int"
      ]
     },
     "execution_count": 37,
     "metadata": {},
     "output_type": "execute_result"
    }
   ],
   "source": [
    "type(4)"
   ]
  },
  {
   "cell_type": "code",
   "execution_count": 38,
   "metadata": {},
   "outputs": [
    {
     "data": {
      "text/plain": [
       "int"
      ]
     },
     "execution_count": 38,
     "metadata": {},
     "output_type": "execute_result"
    }
   ],
   "source": [
    "type(0)"
   ]
  },
  {
   "cell_type": "code",
   "execution_count": 39,
   "metadata": {},
   "outputs": [
    {
     "data": {
      "text/plain": [
       "int"
      ]
     },
     "execution_count": 39,
     "metadata": {},
     "output_type": "execute_result"
    }
   ],
   "source": [
    "type(-3)"
   ]
  },
  {
   "cell_type": "code",
   "execution_count": 44,
   "metadata": {},
   "outputs": [
    {
     "name": "stdout",
     "output_type": "stream",
     "text": [
      "3.5\n",
      "3.5\n"
     ]
    },
    {
     "data": {
      "text/plain": [
       "float"
      ]
     },
     "execution_count": 44,
     "metadata": {},
     "output_type": "execute_result"
    }
   ],
   "source": [
    "# Try taking the mean\n",
    "\n",
    "import numpy as np\n",
    "numbers = [2,3,4,5]\n",
    "print(sum(numbers)/len(numbers))\n",
    "print(np.mean(numbers))\n",
    "type(sum(numbers)/len(numbers))"
   ]
  },
  {
   "cell_type": "markdown",
   "metadata": {},
   "source": [
    "__Float__"
   ]
  },
  {
   "cell_type": "code",
   "execution_count": 45,
   "metadata": {},
   "outputs": [
    {
     "data": {
      "text/plain": [
       "0.6"
      ]
     },
     "execution_count": 45,
     "metadata": {},
     "output_type": "execute_result"
    }
   ],
   "source": [
    "3/5"
   ]
  },
  {
   "cell_type": "code",
   "execution_count": 52,
   "metadata": {},
   "outputs": [
    {
     "data": {
      "text/plain": [
       "float"
      ]
     },
     "execution_count": 52,
     "metadata": {},
     "output_type": "execute_result"
    }
   ],
   "source": [
    "type(3/5)"
   ]
  },
  {
   "cell_type": "code",
   "execution_count": 51,
   "metadata": {},
   "outputs": [
    {
     "name": "stdout",
     "output_type": "stream",
     "text": [
      "0.6\n",
      "0.6000000000000001\n"
     ]
    }
   ],
   "source": [
    "print(np.round(6*10**(-1), 1))\n",
    "print(6*10**(-1))"
   ]
  },
  {
   "cell_type": "markdown",
   "metadata": {},
   "source": [
    "You can see if we don't round it, we will have a bunch of zeros. This is how floats are stored in our machine."
   ]
  },
  {
   "cell_type": "code",
   "execution_count": 54,
   "metadata": {},
   "outputs": [
    {
     "data": {
      "text/plain": [
       "float"
      ]
     },
     "execution_count": 54,
     "metadata": {},
     "output_type": "execute_result"
    }
   ],
   "source": [
    "type(6*10**(-1))"
   ]
  },
  {
   "cell_type": "code",
   "execution_count": 55,
   "metadata": {},
   "outputs": [
    {
     "data": {
      "text/plain": [
       "3.141592653589793"
      ]
     },
     "execution_count": 55,
     "metadata": {},
     "output_type": "execute_result"
    }
   ],
   "source": [
    "np.pi"
   ]
  },
  {
   "cell_type": "code",
   "execution_count": 56,
   "metadata": {},
   "outputs": [
    {
     "data": {
      "text/plain": [
       "float"
      ]
     },
     "execution_count": 56,
     "metadata": {},
     "output_type": "execute_result"
    }
   ],
   "source": [
    "type(np.pi)"
   ]
  },
  {
   "cell_type": "code",
   "execution_count": 57,
   "metadata": {},
   "outputs": [
    {
     "data": {
      "text/plain": [
       "float"
      ]
     },
     "execution_count": 57,
     "metadata": {},
     "output_type": "execute_result"
    }
   ],
   "source": [
    "type(4.0)"
   ]
  },
  {
   "cell_type": "markdown",
   "metadata": {},
   "source": [
    "Although 4.0 is a whole number, because we've said to store this to account a decimal point, then the type of it also a float."
   ]
  },
  {
   "cell_type": "markdown",
   "metadata": {},
   "source": [
    "#### Categorical or Qualitative\n",
    "> _Taking the mean does not make sense!_\n",
    "- Nominal\n",
    "    - Boolean (bool)\n",
    "    - String (str)\n",
    "    - None (Nonetype)\n",
    "- Ordinal\n",
    "    - Only defined by how you use the data\n",
    "    - Often important when creating visuals\n",
    "    - Lists can hold ordinal information because they have indices"
   ]
  },
  {
   "cell_type": "markdown",
   "metadata": {},
   "source": [
    "__Boolean__"
   ]
  },
  {
   "cell_type": "code",
   "execution_count": 58,
   "metadata": {},
   "outputs": [
    {
     "data": {
      "text/plain": [
       "bool"
      ]
     },
     "execution_count": 58,
     "metadata": {},
     "output_type": "execute_result"
    }
   ],
   "source": [
    "# Boolean\n",
    "type(True)"
   ]
  },
  {
   "cell_type": "code",
   "execution_count": 62,
   "metadata": {},
   "outputs": [
    {
     "name": "stdout",
     "output_type": "stream",
     "text": [
      "No :(\n"
     ]
    }
   ],
   "source": [
    "# Boolean\n",
    "if 6 < 5:\n",
    "    print('Yes :)')\n",
    "else: \n",
    "    print('No :(')"
   ]
  },
  {
   "cell_type": "code",
   "execution_count": 63,
   "metadata": {},
   "outputs": [
    {
     "name": "stdout",
     "output_type": "stream",
     "text": [
      "<class 'bool'>\n",
      "<class 'bool'>\n",
      "<class 'bool'>\n",
      "<class 'bool'>\n"
     ]
    }
   ],
   "source": [
    "myList = [True, 6<5, 1==3, None is None]\n",
    "for element in myList: \n",
    "    print(type(element))"
   ]
  },
  {
   "cell_type": "code",
   "execution_count": 65,
   "metadata": {},
   "outputs": [
    {
     "name": "stdout",
     "output_type": "stream",
     "text": [
      "0.5\n"
     ]
    },
    {
     "data": {
      "text/plain": [
       "float"
      ]
     },
     "execution_count": 65,
     "metadata": {},
     "output_type": "execute_result"
    }
   ],
   "source": [
    "print(sum(myList)/len(myList))\n",
    "type(sum(myList)/len(myList))"
   ]
  },
  {
   "cell_type": "markdown",
   "metadata": {},
   "source": [
    "Since boolean holds value of 0 for `False` and 1 for `True`, the mean above isn't necessarily the mean of `myList`, but the mean of how many are true vs how many are false."
   ]
  },
  {
   "cell_type": "markdown",
   "metadata": {},
   "source": [
    "__String__"
   ]
  },
  {
   "cell_type": "code",
   "execution_count": 66,
   "metadata": {},
   "outputs": [
    {
     "data": {
      "text/plain": [
       "str"
      ]
     },
     "execution_count": 66,
     "metadata": {},
     "output_type": "execute_result"
    }
   ],
   "source": [
    "type(\"this is a string\")"
   ]
  },
  {
   "cell_type": "code",
   "execution_count": 68,
   "metadata": {},
   "outputs": [
    {
     "data": {
      "text/plain": [
       "str"
      ]
     },
     "execution_count": 68,
     "metadata": {},
     "output_type": "execute_result"
    }
   ],
   "source": [
    "type(\"3.5\")"
   ]
  },
  {
   "cell_type": "code",
   "execution_count": 67,
   "metadata": {},
   "outputs": [
    {
     "data": {
      "text/plain": [
       "list"
      ]
     },
     "execution_count": 67,
     "metadata": {},
     "output_type": "execute_result"
    }
   ],
   "source": [
    "strList = ['dog', 'koala']\n",
    "type(strList)"
   ]
  },
  {
   "cell_type": "markdown",
   "metadata": {},
   "source": [
    "__Nonetype__"
   ]
  },
  {
   "cell_type": "code",
   "execution_count": 69,
   "metadata": {},
   "outputs": [
    {
     "data": {
      "text/plain": [
       "NoneType"
      ]
     },
     "execution_count": 69,
     "metadata": {},
     "output_type": "execute_result"
    }
   ],
   "source": [
    "# None\n",
    "type(None)"
   ]
  },
  {
   "cell_type": "code",
   "execution_count": 70,
   "metadata": {},
   "outputs": [
    {
     "data": {
      "text/plain": [
       "NoneType"
      ]
     },
     "execution_count": 70,
     "metadata": {},
     "output_type": "execute_result"
    }
   ],
   "source": [
    "x = None\n",
    "type(None)"
   ]
  },
  {
   "cell_type": "markdown",
   "metadata": {},
   "source": [
    "__Lists__\n",
    "\n",
    "A list can hold many types and can also be used to strore ordinal information."
   ]
  },
  {
   "cell_type": "code",
   "execution_count": 72,
   "metadata": {},
   "outputs": [
    {
     "name": "stdout",
     "output_type": "stream",
     "text": [
      "<class 'int'>\n",
      "<class 'float'>\n",
      "<class 'str'>\n",
      "<class 'NoneType'>\n"
     ]
    }
   ],
   "source": [
    "myList = [1,1.1, \"This is a sentence\", None]\n",
    "for element in myList: \n",
    "    print(type(element))"
   ]
  },
  {
   "cell_type": "code",
   "execution_count": 74,
   "metadata": {},
   "outputs": [
    {
     "data": {
      "text/plain": [
       "'third'"
      ]
     },
     "execution_count": 74,
     "metadata": {},
     "output_type": "execute_result"
    }
   ],
   "source": [
    "myList = ['third', 'first', 'medium', 'small', 'large']\n",
    "myList[0]"
   ]
  },
  {
   "cell_type": "code",
   "execution_count": 76,
   "metadata": {},
   "outputs": [
    {
     "data": {
      "text/plain": [
       "['first', 'large', 'medium', 'small', 'third']"
      ]
     },
     "execution_count": 76,
     "metadata": {},
     "output_type": "execute_result"
    }
   ],
   "source": [
    "myList.sort()\n",
    "myList"
   ]
  },
  {
   "cell_type": "markdown",
   "metadata": {},
   "source": [
    "## 1.5 Study Design\n",
    "__Examples__:\n",
    "- __Clinical__ trials for drugs and other medical treatments\n",
    "- __Reliability__ and __quality-assurance__ studies for manufactured products\n",
    "- Observational studies for __human health__\n",
    "- __Public opinion__ and other surveys\n",
    "- Studies involving __administrative__ and other incidental data\n",
    "- __Market research__ studies\n",
    "- __Agricultural__ field trials\n",
    "\n",
    "__Types of Research Studies__:\n",
    "- __Exploratory__ vs __Confirmatory__ studies\n",
    "    - <u>Confimatory</u>: scientific method ~ specify __falsifiable hypothesis__, then test it -> collect data to address single pre-specified question.\n",
    "    - <u>Exploratory</u>: collect and analyze data without first pre-specifying question.\n",
    "    \n",
    "    Note: informative but __watch out__ for __\"overfitting\"__, __\"multiple testing\"__, __\"p-hacking\"__. The more questions you ask from a dataset, the more likely you are to draw a misleading conclusions.\n",
    "    \n",
    "    \n",
    "- __Comparative__ vs __Non-Comparative__ studies\n",
    "    - <u>Comparative</u>: goal -> __contrast__ one quantity to another ~ many research studies are comparative in nature.\n",
    "    - <u>Non-Comparative</u>: focus -> __estimating__ or __predicting__ absolute quantities ~ not (explicitly) comparative.\n",
    "    \n",
    "    \n",
    "- __Observational__ vs __Experiments__ studies\n",
    "    - <u>Observational</u>: arise \"naturally\", contrasts based on \"self-selection\" of units into groups. It often says subjects are \"exposed\" to a condition rather than being \"assigned\" _(passive or self-selected, used when impractical or unethical to assign)_.\n",
    "        - to identify the health effects such as lifespan, lung cancer status between smokers vs non-smokers\n",
    "        - to identify the impact on teaching experience on student learning by comparing standardized test scores betwen students that are in classrooms with teachers that have less experience to the scores for students in classrooms where the teachers have more experience.\n",
    "    - <u>Experiments</u>: involve manipulation or random assignmnet of subject to \"treatment arms\" -> experimenter deliberately treats different units in different ways.\n",
    "        - to compare the yield of lettuce in fields that are treated with and without fertilizer.\n",
    "        - to assess whether people are more likely to click on one of two versions of an online ad, we can randomly expose people one version or the other and then compare those click rates. \n",
    "        \n",
    "\n",
    "__Power and Bias__\n",
    "- __Power Analysis__: \n",
    "    - Process to assess whether given study design likely to yield meaningful findings. \n",
    "- __Bias__: \n",
    "    - Measurements that are systematically off-target, or sample is not representative of population of interest. _Observational studies are especially vulnerable to it._"
   ]
  },
  {
   "cell_type": "markdown",
   "metadata": {},
   "source": [
    "## 1.6 Python Libraries and Data Management\n",
    "\n",
    "__Libraries__\n",
    "\n",
    "\n",
    "Python, like other programming languages, has an abundance of additional modules or libaries that augment the base framework and functionality of the language. \n",
    "\n",
    "Think of a library as a collection of functions that can be accessed to complete certain programming tasks without having to write your own algorithm. \n",
    "\n",
    "For this course, we will focus primarily on the following libraries: \n",
    "- __Numpy__ is a library for working with arrays of data. \n",
    "- __Pandas__ provides high-performance, easy-to-use data structures and data analysis tools.\n",
    "- __Scipy__ is a library of techniques for numberical and scientific computing.\n",
    "- __Matplotlib__ is a library for making graphs.\n",
    "- __Seaborn__ is a higher-level inteface to Matplotlib that can be used to simplify many graphing tasks.\n",
    "- __Statsmodels__ is a library that implements many statistical techniques."
   ]
  },
  {
   "cell_type": "code",
   "execution_count": 77,
   "metadata": {},
   "outputs": [],
   "source": [
    "import pandas as pd\n",
    "import numpy as np"
   ]
  },
  {
   "cell_type": "code",
   "execution_count": 79,
   "metadata": {},
   "outputs": [
    {
     "data": {
      "text/plain": [
       "5.0"
      ]
     },
     "execution_count": 79,
     "metadata": {},
     "output_type": "execute_result"
    }
   ],
   "source": [
    "a = np.array([0,1,2,3,4,5,6,7,8,9,10])\n",
    "np.mean(a)"
   ]
  },
  {
   "cell_type": "markdown",
   "metadata": {},
   "source": [
    "__Data Management__\n",
    "\n",
    "Data management is a crucial component to statistical analysis and data science work. The following code will show you how to import data via the pandas library, view your data, and transform your data.\n",
    "\n",
    "The main data structure that Pandas works with is called a __Data Frame__. This is a two-dimensional table of data in which the rows typically represent cases (i.e. Cartwheel Contest Participants) and the columns represent variables. Pandas alos has a one-dimensional data structure called a Series that we will encounter when accessing a single column of a Data Frame.\n",
    "\n",
    "Pandas has a variety of functions named `read_xxx` for reading data in different formats. Right now we will focus on reading _csv_ files, which stands for comma-separated values. However, the other file formats include excel, json, and sql just to name a few.\n",
    "\n",
    "This is a link to the csv file we wil be exploring in this tutorial: [Cartwheel Data](https://github.com/jmschaff/Introduction-to-Data-Science-in-Python-Coursera/blob/master/Cartwheeldata.csv)"
   ]
  },
  {
   "cell_type": "code",
   "execution_count": 84,
   "metadata": {},
   "outputs": [
    {
     "name": "stdout",
     "output_type": "stream",
     "text": [
      "<class 'pandas.core.frame.DataFrame'>\n"
     ]
    }
   ],
   "source": [
    "# store the url string that hosts our .csv file\n",
    "url = 'https://raw.githubusercontent.com/jmschaff/Introduction-to-Data-Science-in-Python-Coursera/master/Cartwheeldata.csv'\n",
    "\n",
    "# Read the .csv file and store it as pandas data frame\n",
    "df = pd.read_csv(url)\n",
    "\n",
    "print(type(df))"
   ]
  },
  {
   "cell_type": "code",
   "execution_count": 85,
   "metadata": {},
   "outputs": [
    {
     "data": {
      "text/html": [
       "<div>\n",
       "<style scoped>\n",
       "    .dataframe tbody tr th:only-of-type {\n",
       "        vertical-align: middle;\n",
       "    }\n",
       "\n",
       "    .dataframe tbody tr th {\n",
       "        vertical-align: top;\n",
       "    }\n",
       "\n",
       "    .dataframe thead th {\n",
       "        text-align: right;\n",
       "    }\n",
       "</style>\n",
       "<table border=\"1\" class=\"dataframe\">\n",
       "  <thead>\n",
       "    <tr style=\"text-align: right;\">\n",
       "      <th></th>\n",
       "      <th>ID</th>\n",
       "      <th>Age</th>\n",
       "      <th>Gender</th>\n",
       "      <th>GenderGroup</th>\n",
       "      <th>Glasses</th>\n",
       "      <th>GlassesGroup</th>\n",
       "      <th>Height</th>\n",
       "      <th>Wingspan</th>\n",
       "      <th>CWDistance</th>\n",
       "      <th>Complete</th>\n",
       "      <th>CompleteGroup</th>\n",
       "      <th>Score</th>\n",
       "    </tr>\n",
       "  </thead>\n",
       "  <tbody>\n",
       "    <tr>\n",
       "      <th>0</th>\n",
       "      <td>1</td>\n",
       "      <td>56</td>\n",
       "      <td>F</td>\n",
       "      <td>1</td>\n",
       "      <td>Y</td>\n",
       "      <td>1</td>\n",
       "      <td>62.0</td>\n",
       "      <td>61.0</td>\n",
       "      <td>79</td>\n",
       "      <td>Y</td>\n",
       "      <td>1</td>\n",
       "      <td>7</td>\n",
       "    </tr>\n",
       "    <tr>\n",
       "      <th>1</th>\n",
       "      <td>2</td>\n",
       "      <td>26</td>\n",
       "      <td>F</td>\n",
       "      <td>1</td>\n",
       "      <td>Y</td>\n",
       "      <td>1</td>\n",
       "      <td>62.0</td>\n",
       "      <td>60.0</td>\n",
       "      <td>70</td>\n",
       "      <td>Y</td>\n",
       "      <td>1</td>\n",
       "      <td>8</td>\n",
       "    </tr>\n",
       "    <tr>\n",
       "      <th>2</th>\n",
       "      <td>3</td>\n",
       "      <td>33</td>\n",
       "      <td>F</td>\n",
       "      <td>1</td>\n",
       "      <td>Y</td>\n",
       "      <td>1</td>\n",
       "      <td>66.0</td>\n",
       "      <td>64.0</td>\n",
       "      <td>85</td>\n",
       "      <td>Y</td>\n",
       "      <td>1</td>\n",
       "      <td>7</td>\n",
       "    </tr>\n",
       "    <tr>\n",
       "      <th>3</th>\n",
       "      <td>4</td>\n",
       "      <td>39</td>\n",
       "      <td>F</td>\n",
       "      <td>1</td>\n",
       "      <td>N</td>\n",
       "      <td>0</td>\n",
       "      <td>64.0</td>\n",
       "      <td>63.0</td>\n",
       "      <td>87</td>\n",
       "      <td>Y</td>\n",
       "      <td>1</td>\n",
       "      <td>10</td>\n",
       "    </tr>\n",
       "    <tr>\n",
       "      <th>4</th>\n",
       "      <td>5</td>\n",
       "      <td>27</td>\n",
       "      <td>M</td>\n",
       "      <td>2</td>\n",
       "      <td>N</td>\n",
       "      <td>0</td>\n",
       "      <td>73.0</td>\n",
       "      <td>75.0</td>\n",
       "      <td>72</td>\n",
       "      <td>N</td>\n",
       "      <td>0</td>\n",
       "      <td>4</td>\n",
       "    </tr>\n",
       "  </tbody>\n",
       "</table>\n",
       "</div>"
      ],
      "text/plain": [
       "   ID  Age Gender  GenderGroup Glasses  GlassesGroup  Height  Wingspan  \\\n",
       "0   1   56      F            1       Y             1    62.0      61.0   \n",
       "1   2   26      F            1       Y             1    62.0      60.0   \n",
       "2   3   33      F            1       Y             1    66.0      64.0   \n",
       "3   4   39      F            1       N             0    64.0      63.0   \n",
       "4   5   27      M            2       N             0    73.0      75.0   \n",
       "\n",
       "   CWDistance Complete  CompleteGroup  Score  \n",
       "0          79        Y              1      7  \n",
       "1          70        Y              1      8  \n",
       "2          85        Y              1      7  \n",
       "3          87        Y              1     10  \n",
       "4          72        N              0      4  "
      ]
     },
     "execution_count": 85,
     "metadata": {},
     "output_type": "execute_result"
    }
   ],
   "source": [
    "# We can view the first 5 rows of our data frame by calling the head() function\n",
    "df.head()"
   ]
  },
  {
   "cell_type": "code",
   "execution_count": 86,
   "metadata": {},
   "outputs": [
    {
     "data": {
      "text/html": [
       "<div>\n",
       "<style scoped>\n",
       "    .dataframe tbody tr th:only-of-type {\n",
       "        vertical-align: middle;\n",
       "    }\n",
       "\n",
       "    .dataframe tbody tr th {\n",
       "        vertical-align: top;\n",
       "    }\n",
       "\n",
       "    .dataframe thead th {\n",
       "        text-align: right;\n",
       "    }\n",
       "</style>\n",
       "<table border=\"1\" class=\"dataframe\">\n",
       "  <thead>\n",
       "    <tr style=\"text-align: right;\">\n",
       "      <th></th>\n",
       "      <th>ID</th>\n",
       "      <th>Age</th>\n",
       "      <th>Gender</th>\n",
       "      <th>GenderGroup</th>\n",
       "      <th>Glasses</th>\n",
       "      <th>GlassesGroup</th>\n",
       "      <th>Height</th>\n",
       "      <th>Wingspan</th>\n",
       "      <th>CWDistance</th>\n",
       "      <th>Complete</th>\n",
       "      <th>CompleteGroup</th>\n",
       "      <th>Score</th>\n",
       "    </tr>\n",
       "  </thead>\n",
       "  <tbody>\n",
       "    <tr>\n",
       "      <th>0</th>\n",
       "      <td>1</td>\n",
       "      <td>56</td>\n",
       "      <td>F</td>\n",
       "      <td>1</td>\n",
       "      <td>Y</td>\n",
       "      <td>1</td>\n",
       "      <td>62.00</td>\n",
       "      <td>61.0</td>\n",
       "      <td>79</td>\n",
       "      <td>Y</td>\n",
       "      <td>1</td>\n",
       "      <td>7</td>\n",
       "    </tr>\n",
       "    <tr>\n",
       "      <th>1</th>\n",
       "      <td>2</td>\n",
       "      <td>26</td>\n",
       "      <td>F</td>\n",
       "      <td>1</td>\n",
       "      <td>Y</td>\n",
       "      <td>1</td>\n",
       "      <td>62.00</td>\n",
       "      <td>60.0</td>\n",
       "      <td>70</td>\n",
       "      <td>Y</td>\n",
       "      <td>1</td>\n",
       "      <td>8</td>\n",
       "    </tr>\n",
       "    <tr>\n",
       "      <th>2</th>\n",
       "      <td>3</td>\n",
       "      <td>33</td>\n",
       "      <td>F</td>\n",
       "      <td>1</td>\n",
       "      <td>Y</td>\n",
       "      <td>1</td>\n",
       "      <td>66.00</td>\n",
       "      <td>64.0</td>\n",
       "      <td>85</td>\n",
       "      <td>Y</td>\n",
       "      <td>1</td>\n",
       "      <td>7</td>\n",
       "    </tr>\n",
       "    <tr>\n",
       "      <th>3</th>\n",
       "      <td>4</td>\n",
       "      <td>39</td>\n",
       "      <td>F</td>\n",
       "      <td>1</td>\n",
       "      <td>N</td>\n",
       "      <td>0</td>\n",
       "      <td>64.00</td>\n",
       "      <td>63.0</td>\n",
       "      <td>87</td>\n",
       "      <td>Y</td>\n",
       "      <td>1</td>\n",
       "      <td>10</td>\n",
       "    </tr>\n",
       "    <tr>\n",
       "      <th>4</th>\n",
       "      <td>5</td>\n",
       "      <td>27</td>\n",
       "      <td>M</td>\n",
       "      <td>2</td>\n",
       "      <td>N</td>\n",
       "      <td>0</td>\n",
       "      <td>73.00</td>\n",
       "      <td>75.0</td>\n",
       "      <td>72</td>\n",
       "      <td>N</td>\n",
       "      <td>0</td>\n",
       "      <td>4</td>\n",
       "    </tr>\n",
       "    <tr>\n",
       "      <th>5</th>\n",
       "      <td>6</td>\n",
       "      <td>24</td>\n",
       "      <td>M</td>\n",
       "      <td>2</td>\n",
       "      <td>N</td>\n",
       "      <td>0</td>\n",
       "      <td>75.00</td>\n",
       "      <td>71.0</td>\n",
       "      <td>81</td>\n",
       "      <td>N</td>\n",
       "      <td>0</td>\n",
       "      <td>3</td>\n",
       "    </tr>\n",
       "    <tr>\n",
       "      <th>6</th>\n",
       "      <td>7</td>\n",
       "      <td>28</td>\n",
       "      <td>M</td>\n",
       "      <td>2</td>\n",
       "      <td>N</td>\n",
       "      <td>0</td>\n",
       "      <td>75.00</td>\n",
       "      <td>76.0</td>\n",
       "      <td>107</td>\n",
       "      <td>Y</td>\n",
       "      <td>1</td>\n",
       "      <td>10</td>\n",
       "    </tr>\n",
       "    <tr>\n",
       "      <th>7</th>\n",
       "      <td>8</td>\n",
       "      <td>22</td>\n",
       "      <td>F</td>\n",
       "      <td>1</td>\n",
       "      <td>N</td>\n",
       "      <td>0</td>\n",
       "      <td>65.00</td>\n",
       "      <td>62.0</td>\n",
       "      <td>98</td>\n",
       "      <td>Y</td>\n",
       "      <td>1</td>\n",
       "      <td>9</td>\n",
       "    </tr>\n",
       "    <tr>\n",
       "      <th>8</th>\n",
       "      <td>9</td>\n",
       "      <td>29</td>\n",
       "      <td>M</td>\n",
       "      <td>2</td>\n",
       "      <td>Y</td>\n",
       "      <td>1</td>\n",
       "      <td>74.00</td>\n",
       "      <td>73.0</td>\n",
       "      <td>106</td>\n",
       "      <td>N</td>\n",
       "      <td>0</td>\n",
       "      <td>5</td>\n",
       "    </tr>\n",
       "    <tr>\n",
       "      <th>9</th>\n",
       "      <td>10</td>\n",
       "      <td>33</td>\n",
       "      <td>F</td>\n",
       "      <td>1</td>\n",
       "      <td>Y</td>\n",
       "      <td>1</td>\n",
       "      <td>63.00</td>\n",
       "      <td>60.0</td>\n",
       "      <td>65</td>\n",
       "      <td>Y</td>\n",
       "      <td>1</td>\n",
       "      <td>8</td>\n",
       "    </tr>\n",
       "    <tr>\n",
       "      <th>10</th>\n",
       "      <td>11</td>\n",
       "      <td>30</td>\n",
       "      <td>M</td>\n",
       "      <td>2</td>\n",
       "      <td>Y</td>\n",
       "      <td>1</td>\n",
       "      <td>69.50</td>\n",
       "      <td>66.0</td>\n",
       "      <td>96</td>\n",
       "      <td>Y</td>\n",
       "      <td>1</td>\n",
       "      <td>6</td>\n",
       "    </tr>\n",
       "    <tr>\n",
       "      <th>11</th>\n",
       "      <td>12</td>\n",
       "      <td>28</td>\n",
       "      <td>F</td>\n",
       "      <td>1</td>\n",
       "      <td>Y</td>\n",
       "      <td>1</td>\n",
       "      <td>62.75</td>\n",
       "      <td>58.0</td>\n",
       "      <td>79</td>\n",
       "      <td>Y</td>\n",
       "      <td>1</td>\n",
       "      <td>10</td>\n",
       "    </tr>\n",
       "    <tr>\n",
       "      <th>12</th>\n",
       "      <td>13</td>\n",
       "      <td>25</td>\n",
       "      <td>F</td>\n",
       "      <td>1</td>\n",
       "      <td>Y</td>\n",
       "      <td>1</td>\n",
       "      <td>65.00</td>\n",
       "      <td>64.5</td>\n",
       "      <td>92</td>\n",
       "      <td>Y</td>\n",
       "      <td>1</td>\n",
       "      <td>6</td>\n",
       "    </tr>\n",
       "    <tr>\n",
       "      <th>13</th>\n",
       "      <td>14</td>\n",
       "      <td>23</td>\n",
       "      <td>F</td>\n",
       "      <td>1</td>\n",
       "      <td>N</td>\n",
       "      <td>0</td>\n",
       "      <td>61.50</td>\n",
       "      <td>57.5</td>\n",
       "      <td>66</td>\n",
       "      <td>Y</td>\n",
       "      <td>1</td>\n",
       "      <td>4</td>\n",
       "    </tr>\n",
       "    <tr>\n",
       "      <th>14</th>\n",
       "      <td>15</td>\n",
       "      <td>31</td>\n",
       "      <td>M</td>\n",
       "      <td>2</td>\n",
       "      <td>Y</td>\n",
       "      <td>1</td>\n",
       "      <td>73.00</td>\n",
       "      <td>74.0</td>\n",
       "      <td>72</td>\n",
       "      <td>Y</td>\n",
       "      <td>1</td>\n",
       "      <td>9</td>\n",
       "    </tr>\n",
       "    <tr>\n",
       "      <th>15</th>\n",
       "      <td>16</td>\n",
       "      <td>26</td>\n",
       "      <td>M</td>\n",
       "      <td>2</td>\n",
       "      <td>Y</td>\n",
       "      <td>1</td>\n",
       "      <td>71.00</td>\n",
       "      <td>72.0</td>\n",
       "      <td>115</td>\n",
       "      <td>Y</td>\n",
       "      <td>1</td>\n",
       "      <td>6</td>\n",
       "    </tr>\n",
       "    <tr>\n",
       "      <th>16</th>\n",
       "      <td>17</td>\n",
       "      <td>26</td>\n",
       "      <td>F</td>\n",
       "      <td>1</td>\n",
       "      <td>N</td>\n",
       "      <td>0</td>\n",
       "      <td>61.50</td>\n",
       "      <td>59.5</td>\n",
       "      <td>90</td>\n",
       "      <td>N</td>\n",
       "      <td>0</td>\n",
       "      <td>10</td>\n",
       "    </tr>\n",
       "    <tr>\n",
       "      <th>17</th>\n",
       "      <td>18</td>\n",
       "      <td>27</td>\n",
       "      <td>M</td>\n",
       "      <td>2</td>\n",
       "      <td>N</td>\n",
       "      <td>0</td>\n",
       "      <td>66.00</td>\n",
       "      <td>66.0</td>\n",
       "      <td>74</td>\n",
       "      <td>Y</td>\n",
       "      <td>1</td>\n",
       "      <td>5</td>\n",
       "    </tr>\n",
       "    <tr>\n",
       "      <th>18</th>\n",
       "      <td>19</td>\n",
       "      <td>23</td>\n",
       "      <td>M</td>\n",
       "      <td>2</td>\n",
       "      <td>Y</td>\n",
       "      <td>1</td>\n",
       "      <td>70.00</td>\n",
       "      <td>69.0</td>\n",
       "      <td>64</td>\n",
       "      <td>Y</td>\n",
       "      <td>1</td>\n",
       "      <td>3</td>\n",
       "    </tr>\n",
       "    <tr>\n",
       "      <th>19</th>\n",
       "      <td>20</td>\n",
       "      <td>24</td>\n",
       "      <td>F</td>\n",
       "      <td>1</td>\n",
       "      <td>Y</td>\n",
       "      <td>1</td>\n",
       "      <td>68.00</td>\n",
       "      <td>66.0</td>\n",
       "      <td>85</td>\n",
       "      <td>Y</td>\n",
       "      <td>1</td>\n",
       "      <td>8</td>\n",
       "    </tr>\n",
       "    <tr>\n",
       "      <th>20</th>\n",
       "      <td>21</td>\n",
       "      <td>23</td>\n",
       "      <td>M</td>\n",
       "      <td>2</td>\n",
       "      <td>Y</td>\n",
       "      <td>1</td>\n",
       "      <td>69.00</td>\n",
       "      <td>67.0</td>\n",
       "      <td>66</td>\n",
       "      <td>N</td>\n",
       "      <td>0</td>\n",
       "      <td>2</td>\n",
       "    </tr>\n",
       "    <tr>\n",
       "      <th>21</th>\n",
       "      <td>22</td>\n",
       "      <td>29</td>\n",
       "      <td>M</td>\n",
       "      <td>2</td>\n",
       "      <td>N</td>\n",
       "      <td>0</td>\n",
       "      <td>71.00</td>\n",
       "      <td>70.0</td>\n",
       "      <td>101</td>\n",
       "      <td>Y</td>\n",
       "      <td>1</td>\n",
       "      <td>8</td>\n",
       "    </tr>\n",
       "    <tr>\n",
       "      <th>22</th>\n",
       "      <td>23</td>\n",
       "      <td>25</td>\n",
       "      <td>M</td>\n",
       "      <td>2</td>\n",
       "      <td>N</td>\n",
       "      <td>0</td>\n",
       "      <td>70.00</td>\n",
       "      <td>68.0</td>\n",
       "      <td>82</td>\n",
       "      <td>Y</td>\n",
       "      <td>1</td>\n",
       "      <td>4</td>\n",
       "    </tr>\n",
       "    <tr>\n",
       "      <th>23</th>\n",
       "      <td>24</td>\n",
       "      <td>26</td>\n",
       "      <td>M</td>\n",
       "      <td>2</td>\n",
       "      <td>N</td>\n",
       "      <td>0</td>\n",
       "      <td>69.00</td>\n",
       "      <td>71.0</td>\n",
       "      <td>63</td>\n",
       "      <td>Y</td>\n",
       "      <td>1</td>\n",
       "      <td>5</td>\n",
       "    </tr>\n",
       "    <tr>\n",
       "      <th>24</th>\n",
       "      <td>25</td>\n",
       "      <td>23</td>\n",
       "      <td>F</td>\n",
       "      <td>1</td>\n",
       "      <td>Y</td>\n",
       "      <td>1</td>\n",
       "      <td>65.00</td>\n",
       "      <td>63.0</td>\n",
       "      <td>67</td>\n",
       "      <td>N</td>\n",
       "      <td>0</td>\n",
       "      <td>3</td>\n",
       "    </tr>\n",
       "  </tbody>\n",
       "</table>\n",
       "</div>"
      ],
      "text/plain": [
       "    ID  Age Gender  GenderGroup Glasses  GlassesGroup  Height  Wingspan  \\\n",
       "0    1   56      F            1       Y             1   62.00      61.0   \n",
       "1    2   26      F            1       Y             1   62.00      60.0   \n",
       "2    3   33      F            1       Y             1   66.00      64.0   \n",
       "3    4   39      F            1       N             0   64.00      63.0   \n",
       "4    5   27      M            2       N             0   73.00      75.0   \n",
       "5    6   24      M            2       N             0   75.00      71.0   \n",
       "6    7   28      M            2       N             0   75.00      76.0   \n",
       "7    8   22      F            1       N             0   65.00      62.0   \n",
       "8    9   29      M            2       Y             1   74.00      73.0   \n",
       "9   10   33      F            1       Y             1   63.00      60.0   \n",
       "10  11   30      M            2       Y             1   69.50      66.0   \n",
       "11  12   28      F            1       Y             1   62.75      58.0   \n",
       "12  13   25      F            1       Y             1   65.00      64.5   \n",
       "13  14   23      F            1       N             0   61.50      57.5   \n",
       "14  15   31      M            2       Y             1   73.00      74.0   \n",
       "15  16   26      M            2       Y             1   71.00      72.0   \n",
       "16  17   26      F            1       N             0   61.50      59.5   \n",
       "17  18   27      M            2       N             0   66.00      66.0   \n",
       "18  19   23      M            2       Y             1   70.00      69.0   \n",
       "19  20   24      F            1       Y             1   68.00      66.0   \n",
       "20  21   23      M            2       Y             1   69.00      67.0   \n",
       "21  22   29      M            2       N             0   71.00      70.0   \n",
       "22  23   25      M            2       N             0   70.00      68.0   \n",
       "23  24   26      M            2       N             0   69.00      71.0   \n",
       "24  25   23      F            1       Y             1   65.00      63.0   \n",
       "\n",
       "    CWDistance Complete  CompleteGroup  Score  \n",
       "0           79        Y              1      7  \n",
       "1           70        Y              1      8  \n",
       "2           85        Y              1      7  \n",
       "3           87        Y              1     10  \n",
       "4           72        N              0      4  \n",
       "5           81        N              0      3  \n",
       "6          107        Y              1     10  \n",
       "7           98        Y              1      9  \n",
       "8          106        N              0      5  \n",
       "9           65        Y              1      8  \n",
       "10          96        Y              1      6  \n",
       "11          79        Y              1     10  \n",
       "12          92        Y              1      6  \n",
       "13          66        Y              1      4  \n",
       "14          72        Y              1      9  \n",
       "15         115        Y              1      6  \n",
       "16          90        N              0     10  \n",
       "17          74        Y              1      5  \n",
       "18          64        Y              1      3  \n",
       "19          85        Y              1      8  \n",
       "20          66        N              0      2  \n",
       "21         101        Y              1      8  \n",
       "22          82        Y              1      4  \n",
       "23          63        Y              1      5  \n",
       "24          67        N              0      3  "
      ]
     },
     "execution_count": 86,
     "metadata": {},
     "output_type": "execute_result"
    }
   ],
   "source": [
    "# View all rows in our data frame\n",
    "df"
   ]
  },
  {
   "cell_type": "markdown",
   "metadata": {},
   "source": [
    "As you can see, we have a 2-Dimensional object where each row is an independent observation of our cartwheel data. \n",
    "\n",
    "To gather more information regarding the data, we can view the column names and data types of each column with the following functions: "
   ]
  },
  {
   "cell_type": "code",
   "execution_count": 114,
   "metadata": {},
   "outputs": [
    {
     "data": {
      "text/plain": [
       "Index(['ID', 'Age', 'Gender', 'GenderGroup', 'Glasses', 'GlassesGroup',\n",
       "       'Height', 'Wingspan', 'CWDistance', 'Complete', 'CompleteGroup',\n",
       "       'Score'],\n",
       "      dtype='object')"
      ]
     },
     "execution_count": 114,
     "metadata": {},
     "output_type": "execute_result"
    }
   ],
   "source": [
    "df.columns"
   ]
  },
  {
   "cell_type": "code",
   "execution_count": null,
   "metadata": {},
   "outputs": [],
   "source": []
  },
  {
   "cell_type": "code",
   "execution_count": null,
   "metadata": {},
   "outputs": [],
   "source": []
  },
  {
   "cell_type": "code",
   "execution_count": null,
   "metadata": {},
   "outputs": [],
   "source": []
  },
  {
   "cell_type": "code",
   "execution_count": null,
   "metadata": {},
   "outputs": [],
   "source": []
  },
  {
   "cell_type": "code",
   "execution_count": null,
   "metadata": {},
   "outputs": [],
   "source": []
  }
 ],
 "metadata": {
  "kernelspec": {
   "display_name": "Python 3",
   "language": "python",
   "name": "python3"
  },
  "language_info": {
   "codemirror_mode": {
    "name": "ipython",
    "version": 3
   },
   "file_extension": ".py",
   "mimetype": "text/x-python",
   "name": "python",
   "nbconvert_exporter": "python",
   "pygments_lexer": "ipython3",
   "version": "3.7.9"
  }
 },
 "nbformat": 4,
 "nbformat_minor": 4
}
