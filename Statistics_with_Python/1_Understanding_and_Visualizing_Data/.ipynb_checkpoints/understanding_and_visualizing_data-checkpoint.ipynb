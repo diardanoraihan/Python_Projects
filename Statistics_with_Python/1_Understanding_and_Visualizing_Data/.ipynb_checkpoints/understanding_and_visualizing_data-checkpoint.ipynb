{
 "cells": [
  {
   "cell_type": "markdown",
   "metadata": {},
   "source": [
    "<h1 align = center>PART 1: UNDERSTANDING AND VISUALIZING DATA</h1>"
   ]
  },
  {
   "cell_type": "markdown",
   "metadata": {},
   "source": [
    "# 1. Understanding Data"
   ]
  },
  {
   "cell_type": "markdown",
   "metadata": {},
   "source": [
    "## 1.1 Statistics: Definition\n",
    "- Methodological: tools and methods for working with and understanding data.\n",
    "- Statisticians: apply and develop data analysis methods, seek to understand their properties.\n",
    "- Researchers and workers: apply and extend statistical methodology, and contribute new ideas and methods for conducting data analysis.\n",
    "\n",
    "__A Statistic and the field of Statistics__:\n",
    "- A statistic: numerical or graphical summary of a collection of data. \n",
    "    - Average score on final exam\n",
    "    - Minimum temperature at a location over year\n",
    "    - Proportion of people who are retired\n",
    "- Statistics: academic discipline focusing on research methodology. Statisticians develp new statistical tools, calculate statistics from data, and collaborate with subject-mater experts to interpret them. \n",
    "\n",
    "__The Landscape of Statistics__:\n",
    "Evolving and dynamic field ~ Emerging challanges and opportunities: \n",
    "- Properties of statistical methods are under continuing study. \n",
    "- New application areas -> development of new analytic methods. \n",
    "- New types of sensors -> new types of data\n",
    "- Advances in computing -> sophisticated analyses on Big Data\n",
    "\n",
    "__Statistics and its Allied Fields__: \n",
    "- __Computer Science__\n",
    "    - algorithms, data structures for working with data, programming languages for manipulating data\n",
    "- __Mathematics__\n",
    "    - language and notation for expressing statistical concepts concisely, tools for understanding properties of statistical methods\n",
    "- __Probability Theory__\n",
    "    - branch of mathematics ~ crucial part of foundations of statistics - to express ideas about randomness and uncertainty\n",
    "- __Data Science__\n",
    "    - database management, machine learning, computational infrastructure to carry out data analysis.\n",
    "- __Artificial Intelligence__\n",
    "    - Statistics now is a major linchpin in research and industry. A number of different emerging applications include:\n",
    "        - Computer Vision\n",
    "        - Automated Driving\n",
    "        - Recommender system\n",
    "        - Precision medicine\n",
    "        - Fraud Detection\n",
    "        - Job training and behavioral therapy\n",
    "        - etc.\n",
    "\n",
    "## 1.2 Statistics: Perspectives\n",
    "\n",
    "__The Art of Summarizing__\n",
    "\n",
    "- Data can be overwhelming\n",
    "- Making sense of data usually involves reduction and summarization\n",
    "    - reduction: make a dataset comprehensible to human observer\n",
    "    - summarization: always depends primarily on goals of __data consumer__ to be meaningful -- many approaches\n",
    "    \n",
    "__Science of Uncertainty__\n",
    "- Data can be misleading.\n",
    "- Statistics provides framework for assessing whether claims based on data are meaningful. \n",
    "- Uncertainty is inevitable, but it is highly desirable to quantify how far our reported findings may fall from __the truth__. \n",
    "- I.e. many public opinion polls report results along with a margin of error to provide an idea of what that potential discrepancy wll be between the reported and the actual states of public opinion.\n",
    "\n",
    "__Science of Decisions__\n",
    "- Understanding data is important -> only consequential if we act on what we have learned.\n",
    "- __Desicion-making__ = ultimate goal of any statistical analysis.\n",
    "- We make decisions in face of __uncertainty!__\n",
    "    - What are costs and benefits of different approaches? \n",
    "    \n",
    "__Science of Variation__\n",
    "- Often focus on most typical or __central__ value.\n",
    "    - i.e. Average American has around \\$6000 of credit card debt (central value of credit card debt in US population)\n",
    "- Great emphasis on understanding __variation__ in data!\n",
    "    - i.e. 10% of Americans have more than $30,000 in credit card debt (variation of credit card in US population)\n",
    "\n",
    "__Art of Forecasting__\n",
    "- Forecasting or prediction = central tasks in statistics\n",
    "- Cannot know future with absolute certainty, but efficient use of available data\n",
    "    - it can sometimes make accurate predictions about future!\n",
    "    \n",
    "__Science of Measurement__\n",
    "- __High accuracy__: person's age or height\n",
    "- __More difficult__: blodd pressure (varies in minute to minute)\n",
    "- __Harder__: \"mood\", \"political ideology\", \"personality\"\n",
    "\n",
    "__Basis for Principled Data Collection__\n",
    "- Data often expensive and difficult to collect\n",
    "- Resource limitations -> collect least data possible\n",
    "- __Statistics__: provides a rational way to manage this tread-off"
   ]
  },
  {
   "cell_type": "code",
   "execution_count": null,
   "metadata": {},
   "outputs": [],
   "source": []
  },
  {
   "cell_type": "code",
   "execution_count": null,
   "metadata": {},
   "outputs": [],
   "source": []
  },
  {
   "cell_type": "code",
   "execution_count": null,
   "metadata": {},
   "outputs": [],
   "source": []
  },
  {
   "cell_type": "code",
   "execution_count": null,
   "metadata": {},
   "outputs": [],
   "source": []
  },
  {
   "cell_type": "code",
   "execution_count": null,
   "metadata": {},
   "outputs": [],
   "source": []
  },
  {
   "cell_type": "code",
   "execution_count": null,
   "metadata": {},
   "outputs": [],
   "source": []
  },
  {
   "cell_type": "code",
   "execution_count": null,
   "metadata": {},
   "outputs": [],
   "source": []
  },
  {
   "cell_type": "code",
   "execution_count": null,
   "metadata": {},
   "outputs": [],
   "source": []
  },
  {
   "cell_type": "code",
   "execution_count": null,
   "metadata": {},
   "outputs": [],
   "source": []
  },
  {
   "cell_type": "code",
   "execution_count": null,
   "metadata": {},
   "outputs": [],
   "source": []
  },
  {
   "cell_type": "code",
   "execution_count": null,
   "metadata": {},
   "outputs": [],
   "source": []
  },
  {
   "cell_type": "code",
   "execution_count": null,
   "metadata": {},
   "outputs": [],
   "source": []
  },
  {
   "cell_type": "code",
   "execution_count": null,
   "metadata": {},
   "outputs": [],
   "source": []
  },
  {
   "cell_type": "code",
   "execution_count": null,
   "metadata": {},
   "outputs": [],
   "source": []
  },
  {
   "cell_type": "code",
   "execution_count": null,
   "metadata": {},
   "outputs": [],
   "source": []
  }
 ],
 "metadata": {
  "kernelspec": {
   "display_name": "Python 3",
   "language": "python",
   "name": "python3"
  },
  "language_info": {
   "codemirror_mode": {
    "name": "ipython",
    "version": 3
   },
   "file_extension": ".py",
   "mimetype": "text/x-python",
   "name": "python",
   "nbconvert_exporter": "python",
   "pygments_lexer": "ipython3",
   "version": "3.7.9"
  }
 },
 "nbformat": 4,
 "nbformat_minor": 4
}
