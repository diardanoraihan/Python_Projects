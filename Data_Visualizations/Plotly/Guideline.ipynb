{
 "cells": [
  {
   "cell_type": "markdown",
   "metadata": {},
   "source": [
    "# Data Visualization with Plotly\n",
    "\n",
    "Plotly for python is an open-source, free data visualization library built on top of: \n",
    "- Plotly.js\n",
    "- D3.js\n",
    "- Stack.gl\n",
    "\n",
    "Hence, plotly takes full advantage of best in class data visualizations and makes it accessible and easy to implement with Python. \n",
    "\n",
    "Note: Plotly is similar to matplotlib __except__ that the visuals you produce are richer and highly interactive. Plotly offers over 40 different types of visualizations including: \n",
    "- Statistical chart: histograms, displot, bar chart, etc. \n",
    "- Financial chart: candlestick chart, etc.\n",
    "- Mapping plot: chroloplet map, etc.\n",
    "- Sunburst chart: sunburst, sankey diagram, etc.\n",
    "- 3D chart\n",
    "- Basic chart: bar chart, line chart, scatter plot, etc."
   ]
  },
  {
   "cell_type": "code",
   "execution_count": 1,
   "metadata": {},
   "outputs": [],
   "source": [
    "import plotly"
   ]
  },
  {
   "cell_type": "code",
   "execution_count": 2,
   "metadata": {},
   "outputs": [
    {
     "data": {
      "text/plain": [
       "'5.7.0'"
      ]
     },
     "execution_count": 2,
     "metadata": {},
     "output_type": "execute_result"
    }
   ],
   "source": [
    "plotly.__version__"
   ]
  },
  {
   "cell_type": "code",
   "execution_count": null,
   "metadata": {},
   "outputs": [],
   "source": []
  },
  {
   "cell_type": "code",
   "execution_count": null,
   "metadata": {},
   "outputs": [],
   "source": []
  },
  {
   "cell_type": "code",
   "execution_count": null,
   "metadata": {},
   "outputs": [],
   "source": []
  },
  {
   "cell_type": "code",
   "execution_count": null,
   "metadata": {},
   "outputs": [],
   "source": []
  }
 ],
 "metadata": {
  "kernelspec": {
   "display_name": "Python 3",
   "language": "python",
   "name": "python3"
  },
  "language_info": {
   "codemirror_mode": {
    "name": "ipython",
    "version": 3
   },
   "file_extension": ".py",
   "mimetype": "text/x-python",
   "name": "python",
   "nbconvert_exporter": "python",
   "pygments_lexer": "ipython3",
   "version": "3.7.9"
  }
 },
 "nbformat": 4,
 "nbformat_minor": 4
}
